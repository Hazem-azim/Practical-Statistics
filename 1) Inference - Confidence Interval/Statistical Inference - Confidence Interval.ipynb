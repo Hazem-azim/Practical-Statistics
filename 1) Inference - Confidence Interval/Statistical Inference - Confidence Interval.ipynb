{
 "cells": [
  {
   "cell_type": "markdown",
   "metadata": {},
   "source": [
    "## Introduction\n",
    "Inferential Statistics is the process of examining the observed data (sample) in order to make conclusions about properties/parameter of a Population. \n",
    "\n",
    "The conclusion of a statistical inference is called a *statistical proposition*. Some common forms are the following:\n",
    "\n",
    "+ a point estimate (mean)\n",
    "+ an interval estimate (confidence interval)\n",
    "+ rejection of a hypothesis (hypothesis testing)\n",
    "+ clustering or classification of individual data points into groups (Machine Learning techniques, Regression, Classification)\n",
    "\n",
    "The classic approach for Inferential Statistics requires to make assumptions about the population distribution - which is **unknown**. If we knew about the Population, there would be no need for Inference!\n",
    "\n",
    "Hence, using analytical formulas - and making wild assumptions while at it - is not advised. Especially nowadays: with the available processing power and so many readily available programming tools, we can easily make inferences over simulated data distribution.\n",
    "\n",
    "This notebook will cover **Confidence Interval**."
   ]
  },
  {
   "cell_type": "markdown",
   "metadata": {},
   "source": [
    "## Confidence Interval\n",
    "Importing necessary libraries and loading the example dataset. \n",
    "\n",
    "This fictitious dataset contains the average height (in centimeters) of undergrad students, as well as categorical information about age and if they drink coffee."
   ]
  },
  {
   "cell_type": "code",
   "execution_count": 2,
   "metadata": {},
   "outputs": [
    {
     "data": {
      "text/html": [
       "<div>\n",
       "<style scoped>\n",
       "    .dataframe tbody tr th:only-of-type {\n",
       "        vertical-align: middle;\n",
       "    }\n",
       "\n",
       "    .dataframe tbody tr th {\n",
       "        vertical-align: top;\n",
       "    }\n",
       "\n",
       "    .dataframe thead th {\n",
       "        text-align: right;\n",
       "    }\n",
       "</style>\n",
       "<table border=\"1\" class=\"dataframe\">\n",
       "  <thead>\n",
       "    <tr style=\"text-align: right;\">\n",
       "      <th></th>\n",
       "      <th>user_id</th>\n",
       "      <th>age</th>\n",
       "      <th>drinks_coffee</th>\n",
       "      <th>height</th>\n",
       "    </tr>\n",
       "  </thead>\n",
       "  <tbody>\n",
       "    <tr>\n",
       "      <th>0</th>\n",
       "      <td>4509</td>\n",
       "      <td>&lt;21</td>\n",
       "      <td>False</td>\n",
       "      <td>163.93</td>\n",
       "    </tr>\n",
       "    <tr>\n",
       "      <th>1</th>\n",
       "      <td>1864</td>\n",
       "      <td>&gt;=21</td>\n",
       "      <td>True</td>\n",
       "      <td>167.19</td>\n",
       "    </tr>\n",
       "    <tr>\n",
       "      <th>2</th>\n",
       "      <td>2060</td>\n",
       "      <td>&lt;21</td>\n",
       "      <td>False</td>\n",
       "      <td>181.15</td>\n",
       "    </tr>\n",
       "  </tbody>\n",
       "</table>\n",
       "</div>"
      ],
      "text/plain": [
       "   user_id   age  drinks_coffee  height\n",
       "0     4509   <21          False  163.93\n",
       "1     1864  >=21           True  167.19\n",
       "2     2060   <21          False  181.15"
      ]
     },
     "execution_count": 2,
     "metadata": {},
     "output_type": "execute_result"
    }
   ],
   "source": [
    "import pandas as pd\n",
    "import numpy as np\n",
    "import matplotlib.pyplot as plt\n",
    "import seaborn as sns\n",
    "%matplotlib inline\n",
    "plt.rcParams['axes.titleweight']= 'bold'\n",
    "\n",
    "np.random.seed(42)\n",
    "\n",
    "df_full = pd.read_csv('undergrad_students.csv')\n",
    "df_full.head(3)"
   ]
  },
  {
   "cell_type": "markdown",
   "metadata": {},
   "source": [
    "We are interested in studying whether the average height for coffee drinkers is the same as for non-coffee drinkers."
   ]
  },
  {
   "cell_type": "markdown",
   "metadata": {},
   "source": [
    "$$ Height_{Coffee} = Height_{No \\space Coffee} $$"
   ]
  },
  {
   "cell_type": "markdown",
   "metadata": {},
   "source": [
    "Our research question can be rewritten as:<br>\n",
    "The difference between the average height of Coffee drinkers and No Coffee drinker is equal to zero."
   ]
  },
  {
   "cell_type": "markdown",
   "metadata": {},
   "source": [
    "$$ Height_{Coffee} - Height_{No \\space Coffee} = 0$$"
   ]
  },
  {
   "cell_type": "markdown",
   "metadata": {},
   "source": [
    "First, let's create a sample of size 200 from our full dataset. We will call it the \"*Original Sample*\".\n",
    "\n",
    "Then, we can use the Bootstrapping technique to generate the Sampling Distribution based on the Original Sample.\n",
    "\n",
    "Finally, we calculate the average height of each group of interest (coffee drinker vs no coffee), compute their difference, and store it in a list called `diffs`. \n",
    "\n",
    "We repeat this process 10,000 times so the Central Limit Theory \"kicks-in\", resulting in a normally distributed difference in average heights.\n",
    "\n",
    "> **Note**: this process yields 3 arrays of size 10,000: average height of coffee drinkers; average height of those who do not drink coffee, and the difference in means."
   ]
  },
  {
   "cell_type": "code",
   "execution_count": 5,
   "metadata": {},
   "outputs": [],
   "source": [
    "df_sample = df_full.sample(200)"
   ]
  },
  {
   "cell_type": "code",
   "execution_count": 9,
   "metadata": {},
   "outputs": [],
   "source": [
    "# instantiate empty list\n",
    "diffs = []\n",
    "\n",
    "# Bootstraping 10,000 times\n",
    "for _ in range(10_000):\n",
    "    boot_sample = df_sample.sample(len(df_sample), replace=True)\n",
    "    avg_height_coffee = boot_sample.query('drinks_coffee == True').height.mean()\n",
    "    avg_height_not_coffee = boot_sample.query('drinks_coffee == False').height.mean()\n",
    "    diffs.append(avg_height_coffee - avg_height_not_coffee)"
   ]
  },
  {
   "cell_type": "code",
   "execution_count": 15,
   "metadata": {},
   "outputs": [
    {
     "name": "stdout",
     "output_type": "stream",
     "text": [
      "Sampling Distribution Mean: 3.970 cm\n",
      "Sampling Distribution Std: 1.042 cm\n"
     ]
    }
   ],
   "source": [
    "print(f'Sampling Distribution Mean: {np.mean(diffs):.3f} cm')\n",
    "print(f'Sampling Distribution Std: {np.std(diffs):.3f} cm')"
   ]
  },
  {
   "cell_type": "code",
   "execution_count": 14,
   "metadata": {},
   "outputs": [
    {
     "name": "stdout",
     "output_type": "stream",
     "text": [
      "Original Sample average height difference: 3.977 cm\n"
     ]
    }
   ],
   "source": [
    "# Actual difference in average height, based on the original sample\n",
    "height_coffee = df_sample.query('drinks_coffee == True').height\n",
    "height_no_coffee = df_sample.query('drinks_coffee == False').height\n",
    "\n",
    "actual_avg_height_difference = height_coffee.mean() - height_no_coffee.mean()\n",
    "print(f'Original Sample average height difference: {actual_avg_height_difference:.3f} cm')"
   ]
  },
  {
   "cell_type": "markdown",
   "metadata": {},
   "source": [
    "Checking the difference between the average height of both groups, we can see the mean of our Sampling Distribution (3.970 cm) closely approximates the actual  average height difference observed in the original sample (3.977 cm)."
   ]
  },
  {
   "cell_type": "markdown",
   "metadata": {},
   "source": [
    "### Calculating Lower and Upper Bounds\n",
    "Lastly, let's find the lower and upper bounds of the interval containing the correct parameter with a confidence level of 95%: <br>\n",
    "$$\\alpha = 0.05$$"
   ]
  },
  {
   "cell_type": "code",
   "execution_count": 20,
   "metadata": {},
   "outputs": [
    {
     "name": "stdout",
     "output_type": "stream",
     "text": [
      "Confidence Interval: [1.95, 6.04]\n"
     ]
    }
   ],
   "source": [
    "alpha = 5.0\n",
    "lower, upper = np.percentile(diffs, alpha/2) , np.percentile(diffs, 100 - alpha/2)\n",
    "print(f'Confidence Interval: [{lower:.2f}, {upper:.2f}]')"
   ]
  },
  {
   "cell_type": "code",
   "execution_count": 25,
   "metadata": {},
   "outputs": [
    {
     "data": {
      "image/png": "[encoded data removed]",
      "text/plain": [
       "<matplotlib.figure.Figure at 0x1ea98c18fd0>"
      ]
     },
     "metadata": {
      "needs_background": "light"
     },
     "output_type": "display_data"
    }
   ],
   "source": [
    "sns.distplot(diffs, hist_kws={'edgecolor':'gray'})\n",
    "plt.title('Normal Distribution: Difference in Average Height')\n",
    "plt.xlabel('height difference [cm]')\n",
    "plt.ylabel('Density');\n",
    "plt.axvline(lower, color='r')\n",
    "plt.axvline(upper, color='r');"
   ]
  },
  {
   "cell_type": "code",
   "execution_count": 30,
   "metadata": {},
   "outputs": [
    {
     "name": "stdout",
     "output_type": "stream",
     "text": [
      "Average Height Difference: 3.97 cm\n",
      "Margin of error: 2.05 cm\n"
     ]
    }
   ],
   "source": [
    "CI_width = upper - lower\n",
    "print(f'Average Height Difference: {np.mean(diffs):.2f} cm')\n",
    "print(f'Margin of error: {CI_width/2:.2f} cm')"
   ]
  },
  {
   "cell_type": "markdown",
   "metadata": {},
   "source": [
    "### Interpretation\n",
    "Since the Confidence Interval does not contain (overlap) zero, there is evidence that suggests there is indeed a difference in the population height of those sub-groups. As a matter of fact, there is a substantial difference since the lower bound is far from zero.\n",
    "\n",
    ">$\\implies$ We have evidence to support that, on average, coffee drinkers are taller than those who do not drink coffee. We can infer, with 95% confidence, the average height difference is 4 cm with a margin of error of 2 cm."
   ]
  },
  {
   "cell_type": "markdown",
   "metadata": {},
   "source": [
    "+ $\\uparrow$ bigger sample size $\\therefore$ $\\downarrow$ narrower Confidence Interval width\n",
    "+ **Margin of Error**: Confidence Interval width / 2"
   ]
  }
 ],
 "metadata": {
  "kernelspec": {
   "display_name": "Python 3",
   "language": "python",
   "name": "python3"
  },
  "language_info": {
   "codemirror_mode": {
    "name": "ipython",
    "version": 3
   },
   "file_extension": ".py",
   "mimetype": "text/x-python",
   "name": "python",
   "nbconvert_exporter": "python",
   "pygments_lexer": "ipython3",
   "version": "3.6.4"
  },
  "varInspector": {
   "cols": {
    "lenName": 16,
    "lenType": 16,
    "lenVar": 40
   },
   "kernels_config": {
    "python": {
     "delete_cmd_postfix": "",
     "delete_cmd_prefix": "del ",
     "library": "var_list.py",
     "varRefreshCmd": "print(var_dic_list())"
    },
    "r": {
     "delete_cmd_postfix": ") ",
     "delete_cmd_prefix": "rm(",
     "library": "var_list.r",
     "varRefreshCmd": "cat(var_dic_list()) "
    }
   },
   "types_to_exclude": [
    "module",
    "function",
    "builtin_function_or_method",
    "instance",
    "_Feature"
   ],
   "window_display": false
  }
 },
 "nbformat": 4,
 "nbformat_minor": 2
}
